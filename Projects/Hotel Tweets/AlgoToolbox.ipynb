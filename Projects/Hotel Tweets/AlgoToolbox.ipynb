{
 "cells": [
  {
   "cell_type": "code",
   "execution_count": null,
   "metadata": {
    "collapsed": true
   },
   "outputs": [],
   "source": [
    "# Sorting Algorithms"
   ]
  },
  {
   "cell_type": "code",
   "execution_count": 1,
   "metadata": {
    "collapsed": true
   },
   "outputs": [],
   "source": [
    "inp = [0,2,3,2,6,2,1,3]"
   ]
  },
  {
   "cell_type": "code",
   "execution_count": 2,
   "metadata": {
    "collapsed": false
   },
   "outputs": [
    {
     "name": "stdout",
     "output_type": "stream",
     "text": [
      "[0, 1, 2, 2, 2, 3, 3, 6]\n"
     ]
    }
   ],
   "source": [
    "inp.sort()\n",
    "print inp"
   ]
  },
  {
   "cell_type": "code",
   "execution_count": null,
   "metadata": {
    "collapsed": true
   },
   "outputs": [],
   "source": [
    "# Greedy Algorithms"
   ]
  },
  {
   "cell_type": "code",
   "execution_count": null,
   "metadata": {
    "collapsed": true
   },
   "outputs": [],
   "source": [
    "inp = [0,2,3,2,6,2,1,3]"
   ]
  },
  {
   "cell_type": "code",
   "execution_count": 9,
   "metadata": {
    "collapsed": false
   },
   "outputs": [
    {
     "name": "stdout",
     "output_type": "stream",
     "text": [
      "9\n",
      "2\n"
     ]
    }
   ],
   "source": [
    "# Changing Money\n",
    "m = 10239703424398709870956\n",
    "\n",
    "def get_change(m):\n",
    "    tens = m // 10\n",
    "    rem = m % 10\n",
    "    fives = rem // 5\n",
    "    ones = rem % 5\n",
    "    return tens+fives+ones\n",
    "\n",
    "print m//get_change(m)"
   ]
  },
  {
   "cell_type": "code",
   "execution_count": 39,
   "metadata": {
    "collapsed": false
   },
   "outputs": [
    {
     "name": "stdout",
     "output_type": "stream",
     "text": [
      "10.0000\n"
     ]
    }
   ],
   "source": [
    "# Fractional Knapsack\n",
    "\n",
    "capacity = 100\n",
    "weights = [60]\n",
    "values = [10]\n",
    "\n",
    "from operator import itemgetter\n",
    "\n",
    "vperw = [(values[i]*1.0/weights[i], weights[i], values[i]) for i in range(len(values))]\n",
    "vperw.sort(key=itemgetter(0), reverse = True)\n",
    "\n",
    "sackval = 0\n",
    "sackweight = 0\n",
    "itemidx = 0\n",
    "\n",
    "while sackweight < capacity and itemidx < len(values):\n",
    "    if vperw[itemidx][1]+sackweight <= capacity:\n",
    "        sackval += vperw[itemidx][2]\n",
    "        sackweight += vperw[itemidx][1]\n",
    "        itemidx += 1\n",
    "    else:\n",
    "        sackval += (capacity - sackweight)*vperw[itemidx][0]\n",
    "        sackweight = capacity\n",
    "\n",
    "print(\"{:.4f}\".format(sackval))"
   ]
  },
  {
   "cell_type": "code",
   "execution_count": 42,
   "metadata": {
    "collapsed": false
   },
   "outputs": [
    {
     "name": "stdout",
     "output_type": "stream",
     "text": [
      "23\n"
     ]
    }
   ],
   "source": [
    "# Max Dot Product\n",
    "# Insight - sorting both a and b and then dot product works - negatives and positives line up\n",
    "\n",
    "a = [1,3,-5]\n",
    "b = [-2,4,1]\n",
    "\n",
    "a.sort()\n",
    "b.sort()\n",
    "\n",
    "res = 0\n",
    "for i in range(len(a)):\n",
    "    res += a[i] * b[i]\n",
    "print res"
   ]
  }
 ],
 "metadata": {
  "anaconda-cloud": {},
  "kernelspec": {
   "display_name": "Python [Root]",
   "language": "python",
   "name": "Python [Root]"
  },
  "language_info": {
   "codemirror_mode": {
    "name": "ipython",
    "version": 2
   },
   "file_extension": ".py",
   "mimetype": "text/x-python",
   "name": "python",
   "nbconvert_exporter": "python",
   "pygments_lexer": "ipython2",
   "version": "2.7.12"
  }
 },
 "nbformat": 4,
 "nbformat_minor": 0
}
