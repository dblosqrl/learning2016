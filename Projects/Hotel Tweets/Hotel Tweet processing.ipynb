{
 "metadata": {
  "name": ""
 },
 "nbformat": 3,
 "nbformat_minor": 0,
 "worksheets": [
  {
   "cells": [
    {
     "cell_type": "code",
     "collapsed": false,
     "input": [
      "cd ~/Desktop/programming/Python/twitter"
     ],
     "language": "python",
     "metadata": {},
     "outputs": [
      {
       "output_type": "stream",
       "stream": "stdout",
       "text": [
        "/home/hollywh/Desktop/programming/Python/twitter\n"
       ]
      }
     ],
     "prompt_number": 5
    },
    {
     "cell_type": "code",
     "collapsed": false,
     "input": [
      "full_term_list = [\"HiltonHotels\", \"HiltonHHonors\", \"HiltonWorldwide\", \"Marriott\", \"MarriottIntl\", \"RenHotels\", \"sheratonhotels\", \"spg\", \"westin\", \"whotels\", \"starwood\", \"starwoodbuzz\", \"ihgrewardsclub\", \"HolidayInn\", \"hotelindigo\", \"crowneplaza\", \"hyatttweets\", \"#TravelBrilliantly\", \"#BeAWeekender\", \"#spglife\", \"#RDiscover\", \"#DiscoverIHG\", \"#gotmysweaton\", \"#ineedthatbreak\"]\n",
      "term_string = \", \".join(full_term_list)\n",
      "term_string"
     ],
     "language": "python",
     "metadata": {},
     "outputs": [
      {
       "metadata": {},
       "output_type": "pyout",
       "prompt_number": 16,
       "text": [
        "'HiltonHotels, HiltonHHonors, HiltonWorldwide, Marriott, MarriottIntl, RenHotels, sheratonhotels, spg, westin, whotels, starwood, starwoodbuzz, ihgrewardsclub, HolidayInn, hotelindigo, crowneplaza, hyatttweets, #TravelBrilliantly, #BeAWeekender, #spglife, #RDiscover, #DiscoverIHG, #gotmysweaton, #ineedthatbreak'"
       ]
      }
     ],
     "prompt_number": 16
    },
    {
     "cell_type": "code",
     "collapsed": false,
     "input": [
      "# Text of twitter capture file - updated 20 Apr 14, keys and secrets removed\n",
      "\n",
      "#!/usr/bin/env python\n",
      "\n",
      "from TwitterAPI import TwitterAPI\n",
      "import time\n",
      "\n",
      "consumer_key = \n",
      "consumer_secret = \n",
      "access_token_key = \n",
      "access_token_secret = \n",
      "\n",
      "file_location = \"output_follow.txt\"\n",
      "\n",
      "# create new iterations by using term_string above\n",
      "FOLLOW_TERM = \"HiltonHotels, HiltonHHonors, HiltonWorldwide, Marriott, MarriottIntl, RenHotels, sheratonhotels, spg, westin, whotels, ihgrewardsclub, HolidayInn, hotelindigo, crowneplaza, hyatttweets, #TravelBrilliantly, #BeAWeekender, #spglife, #RDiscover, #DiscoverIHG, #gotmysweaton, #ineedthatbreak\" \n",
      "#FOLLOW_TERM = term_string\n",
      "\n",
      "delay = 8 # seconds\n",
      "\n",
      "while True:\n",
      "    try:\n",
      "        api = TwitterAPI(consumer_key, consumer_secret,\n",
      "                         access_token_key, access_token_secret)\n",
      "        r = api.request('statuses/filter', {'track':FOLLOW_TERM})\n",
      "        with open(file_location, \"a\") as output:\n",
      "            for item in r.get_iterator():\n",
      "                output.write(str(item) + \"\\n\")\n",
      "                #print(item['text'] if 'text' in item else item)\n",
      "            delay = max(8, delay/2)\n",
      "    except:\n",
      "        print \"Error\"\n",
      "        print time.ctime()\n",
      "        print \"Waiting \" + str(delay) + \" seconds\"\n",
      "        time.sleep(delay)\n",
      "        delay *= 2"
     ],
     "language": "python",
     "metadata": {},
     "outputs": []
    },
    {
     "cell_type": "code",
     "collapsed": false,
     "input": [
      "# Following code extracts a few relevant data fields out of the Twitter Streaming API\n",
      "# Create as individual lists then lump into a dict and create as a dataframe\n",
      "\n",
      "import pandas\n",
      "import re\n",
      "\n",
      "filename = \"output_follow_Apr_6_to_20.txt\"\n",
      "term_list = [term.lower() for term in term_list]\n",
      "\n",
      "fp = open(filename)\n",
      "count = 0\n",
      "users = []\n",
      "created = []\n",
      "text = []\n",
      "retweets = []\n",
      "hashtags = []\n",
      "tweetid = []\n",
      "favorite = []\n",
      "list_of_term_list = []\n",
      "\n",
      "for ii in range(111900):     \n",
      "  line = fp.readline()    # each tweet is a line\n",
      "  line = eval(line)     # and now each line is a dict\n",
      "  if line['lang'] == 'en':   # select only english labeled texts\n",
      "    users.append(line['user']['screen_name'].lower())   # and start creating vectors (will dataframe in a bit)\n",
      "    created.append(line['created_at'])\n",
      "    text.append(re.sub(',',' ', line['text']).lower())    # replace commas with spaces for csv output\n",
      "    retweets.append(line['retweet_count'])  \n",
      "    tweetid.append(line['id'])\n",
      "    favorite.append(line['favorite_count'])\n",
      "    count += 1\n",
      "    \n",
      "    #tag_list = []                     # hashtags are tricky - there could be many or none\n",
      "    #for tag in line['entities']['hashtags']:\n",
      "    #  tag_list.append(tag['text'].lower())   \n",
      "    #hashtags.append(tag_list)\n",
      "    \n",
      "    ## search text and user for items in term_list    \n",
      "    #term_list = []\n",
      "    #for term in original_search_term_list:\n",
      "    #    if line['text'].lower().find(term) >=0 or line['user']['screen_name'].lower().find(term) >= 0:\n",
      "    #        term_list.append(term)\n",
      "    #        #print(ii,term)\n",
      "    #list_of_term_list.append(term_list)\n",
      "    \n",
      "    # redo of hashtags and search term list - space separated string only please\n",
      "    tag_list = ''\n",
      "    for tag in line['entities']['hashtags']:\n",
      "      tag_list += tag['text'].lower() + \" \"   \n",
      "    hashtags.append(tag_list) \n",
      "    \n",
      "    # search text and user for items in term_list    \n",
      "    term_list = \"\"\n",
      "    for term in full_term_list:\n",
      "        if line['text'].lower().find(term) >=0 or line['user']['screen_name'].lower().find(term) >= 0:\n",
      "            term_list += term + \" \"\n",
      "    list_of_term_list.append(term_list)\n",
      "    \n",
      "     \n",
      "# now make the dataframe by creating a dict and then using pandas.DataFrame to convert\n",
      "data = {'id':tweetid, 'user':users, 'text':text, 'terms':list_of_term_list, 'hashtags':hashtags, 'created':created, 'retweets':retweets, 'favorites':favorite} \n",
      "tweet_df = pandas.DataFrame(data)  \n",
      "#print tweet_df\n",
      "tweet_df.to_csv('csvout.csv', encoding='utf-8')\n"
     ],
     "language": "python",
     "metadata": {},
     "outputs": [],
     "prompt_number": 77
    },
    {
     "cell_type": "code",
     "collapsed": false,
     "input": [
      "tweet_df.to_csv('csvout.csv', encoding='utf-8')"
     ],
     "language": "python",
     "metadata": {},
     "outputs": [],
     "prompt_number": 64
    },
    {
     "cell_type": "code",
     "collapsed": false,
     "input": [
      "original_search_term_list = [\"HiltonHotels\", \"HiltonHHonors\", \"HiltonWorldwide\", \"Hilton\", \"Marriott\", \"MarriottIntl\", \"RenHotels\", \"sheratonhotels\", \"spg\", \"westin\", \"whotels\", \"starwood\", \"starwoodbuzz\", \"ihgrewardsclub\", \"HolidayInn\", \"hotelindigo\", \"crowneplaza\", \"hyatttweets\", \"#TravelBrilliantly\", \"#BeAWeekender\", \"#spglife\", \"#RDiscover\", \"#DiscoverIHG\", \"#gotmysweaton\", \"#ineedthatbreak\"]\n",
      "original_search_term_list = [term.lower() for term in original_search_term_list]\n",
      "original_search_term_list"
     ],
     "language": "python",
     "metadata": {},
     "outputs": [
      {
       "metadata": {},
       "output_type": "pyout",
       "prompt_number": 62,
       "text": [
        "['hiltonhotels',\n",
        " 'hiltonhhonors',\n",
        " 'hiltonworldwide',\n",
        " 'hilton',\n",
        " 'marriott',\n",
        " 'marriottintl',\n",
        " 'renhotels',\n",
        " 'sheratonhotels',\n",
        " 'spg',\n",
        " 'westin',\n",
        " 'whotels',\n",
        " 'starwood',\n",
        " 'starwoodbuzz',\n",
        " 'ihgrewardsclub',\n",
        " 'holidayinn',\n",
        " 'hotelindigo',\n",
        " 'crowneplaza',\n",
        " 'hyatttweets',\n",
        " '#travelbrilliantly',\n",
        " '#beaweekender',\n",
        " '#spglife',\n",
        " '#rdiscover',\n",
        " '#discoverihg',\n",
        " '#gotmysweaton',\n",
        " '#ineedthatbreak']"
       ]
      }
     ],
     "prompt_number": 62
    },
    {
     "cell_type": "code",
     "collapsed": false,
     "input": [
      "# I don't know how to do much yet with dataframes in Python and my attempts to export to R were\n",
      "# unsuccessfull. So, I will try this again and create my frequency tables manually with dicts.  \n",
      "# Help!\n",
      "\n",
      "import collections\n",
      "\n",
      "fp = open(\"output_follow_Apr13end.txt\")\n",
      "userdict = collections.defaultdict(int)    # defaultdict inserts new keys automatically\n",
      "hashdict = collections.defaultdict(int)\n",
      "\n",
      "for ii in range(60000):\n",
      "  line = fp.readline()\n",
      "  line = eval(line)    # convert back to a dict\n",
      "  if line['lang'] == 'en':\n",
      "    userdict[line['user']['screen_name']] += 1\n",
      "    for tag in line['entities']['hashtags']:\n",
      "      hashdict[tag['text']] += 1"
     ],
     "language": "python",
     "metadata": {},
     "outputs": [],
     "prompt_number": 17
    },
    {
     "cell_type": "code",
     "collapsed": false,
     "input": [
      "len(userdict)"
     ],
     "language": "python",
     "metadata": {},
     "outputs": [
      {
       "metadata": {},
       "output_type": "pyout",
       "prompt_number": 20,
       "text": [
        "20096"
       ]
      }
     ],
     "prompt_number": 20
    },
    {
     "cell_type": "code",
     "collapsed": false,
     "input": [
      "len(hashdict)"
     ],
     "language": "python",
     "metadata": {},
     "outputs": [
      {
       "metadata": {},
       "output_type": "pyout",
       "prompt_number": 26,
       "text": [
        "5367"
       ]
      }
     ],
     "prompt_number": 26
    },
    {
     "cell_type": "code",
     "collapsed": false,
     "input": [
      "# Who's tweeting about hotels?\n",
      "sorted(userdict.items(), key=lambda t: t[1], reverse = True)[0:15]"
     ],
     "language": "python",
     "metadata": {},
     "outputs": [
      {
       "metadata": {},
       "output_type": "pyout",
       "prompt_number": 37,
       "text": [
        "[(u'dreamytravels', 412),\n",
        " (u'vegas_visits', 231),\n",
        " (u'TravelPointers', 97),\n",
        " (u'IHGCare', 83),\n",
        " (u'angelo_chirillo', 75),\n",
        " (u'ProductPoet', 69),\n",
        " (u'OsoulIslamRT', 64),\n",
        " (u'topratedhotels', 56),\n",
        " (u'TotalTrafficHOU', 53),\n",
        " (u'PropertiesReal', 45),\n",
        " (u'TXI45thm', 44),\n",
        " (u'davidsirota', 41),\n",
        " (u'Marriott', 40),\n",
        " (u'CarolModaPR', 38),\n",
        " (u'MiddleEastJob', 37)]"
       ]
      }
     ],
     "prompt_number": 37
    },
    {
     "cell_type": "code",
     "collapsed": false,
     "input": [
      "# Which hashtags are they using?\n",
      "sorted(hashdict.items(), key=lambda t: t[1], reverse = True)[0:15]"
     ],
     "language": "python",
     "metadata": {},
     "outputs": [
      {
       "metadata": {},
       "output_type": "pyout",
       "prompt_number": 36,
       "text": [
        "[(u'Marriott', 536),\n",
        " (u'Job', 432),\n",
        " (u'SPG', 380),\n",
        " (u'GotMySweatOn', 327),\n",
        " (u'VacationVilla', 321),\n",
        " (u'Jobs', 293),\n",
        " (u'OKTracks', 255),\n",
        " (u'ebayipad', 250),\n",
        " (u'travel', 249),\n",
        " (u'marriott', 239),\n",
        " (u'holidayinn', 234),\n",
        " (u'INeedThatBreak', 204),\n",
        " (u'DestinationWedding', 179),\n",
        " (u'traffic', 176),\n",
        " (u'TLWTheFalseExpectations', 154)]"
       ]
      }
     ],
     "prompt_number": 36
    },
    {
     "cell_type": "code",
     "collapsed": false,
     "input": [
      "# consider list comprehensions to reimplement the main df function\n",
      "fp = open(\"output_follow_Apr13end.txt\")"
     ],
     "language": "python",
     "metadata": {},
     "outputs": []
    },
    {
     "cell_type": "code",
     "collapsed": false,
     "input": [
      "print dataframe.shape"
     ],
     "language": "python",
     "metadata": {},
     "outputs": [
      {
       "output_type": "stream",
       "stream": "stdout",
       "text": [
        "(29117, 7)\n"
       ]
      }
     ],
     "prompt_number": 39
    },
    {
     "cell_type": "code",
     "collapsed": false,
     "input": [
      "df = dataframe"
     ],
     "language": "python",
     "metadata": {},
     "outputs": [],
     "prompt_number": 41
    },
    {
     "cell_type": "code",
     "collapsed": false,
     "input": [
      "df.head()"
     ],
     "language": "python",
     "metadata": {},
     "outputs": [
      {
       "html": [
        "<div style=\"max-height:1000px;max-width:1500px;overflow:auto;\">\n",
        "<table border=\"1\" class=\"dataframe\">\n",
        "  <thead>\n",
        "    <tr style=\"text-align: right;\">\n",
        "      <th></th>\n",
        "      <th>created</th>\n",
        "      <th>favorites</th>\n",
        "      <th>hashtags</th>\n",
        "      <th>id</th>\n",
        "      <th>retweets</th>\n",
        "      <th>text</th>\n",
        "      <th>user</th>\n",
        "    </tr>\n",
        "  </thead>\n",
        "  <tbody>\n",
        "    <tr>\n",
        "      <th>0</th>\n",
        "      <td> Mon Apr 07 01:50:31 +0000 2014</td>\n",
        "      <td> 0</td>\n",
        "      <td>         []</td>\n",
        "      <td> 452986749237874688</td>\n",
        "      <td> 0</td>\n",
        "      <td> @MarriottIntl staying in the Aruba Ocean Club....</td>\n",
        "      <td>   amandax0faye</td>\n",
        "    </tr>\n",
        "    <tr>\n",
        "      <th>1</th>\n",
        "      <td> Mon Apr 07 01:50:51 +0000 2014</td>\n",
        "      <td> 0</td>\n",
        "      <td>         []</td>\n",
        "      <td> 452986833002319873</td>\n",
        "      <td> 0</td>\n",
        "      <td> @MarriottIntl apparently it isn't true...hope ...</td>\n",
        "      <td>   amandax0faye</td>\n",
        "    </tr>\n",
        "    <tr>\n",
        "      <th>2</th>\n",
        "      <td> Mon Apr 07 01:51:25 +0000 2014</td>\n",
        "      <td> 0</td>\n",
        "      <td>         []</td>\n",
        "      <td> 452986974782369792</td>\n",
        "      <td> 0</td>\n",
        "      <td> I'm at Tucson Marriott University Park (Tucson...</td>\n",
        "      <td>         pdxplm</td>\n",
        "    </tr>\n",
        "    <tr>\n",
        "      <th>3</th>\n",
        "      <td> Mon Apr 07 01:52:03 +0000 2014</td>\n",
        "      <td> 0</td>\n",
        "      <td>         []</td>\n",
        "      <td> 452987134199078913</td>\n",
        "      <td> 0</td>\n",
        "      <td> Cool welcome upon arrival from Chattanooga CVB...</td>\n",
        "      <td> vipalpinetours</td>\n",
        "    </tr>\n",
        "    <tr>\n",
        "      <th>4</th>\n",
        "      <td> Mon Apr 07 01:53:35 +0000 2014</td>\n",
        "      <td> 0</td>\n",
        "      <td> [Shanghai]</td>\n",
        "      <td> 452987520578363392</td>\n",
        "      <td> 0</td>\n",
        "      <td> YOU DID NOT! - RT @HiltonWorldwide: Traveling ...</td>\n",
        "      <td>        shamong</td>\n",
        "    </tr>\n",
        "  </tbody>\n",
        "</table>\n",
        "<p>5 rows \u00d7 7 columns</p>\n",
        "</div>"
       ],
       "metadata": {},
       "output_type": "pyout",
       "prompt_number": 42,
       "text": [
        "                          created  favorites    hashtags                  id  \\\n",
        "0  Mon Apr 07 01:50:31 +0000 2014          0          []  452986749237874688   \n",
        "1  Mon Apr 07 01:50:51 +0000 2014          0          []  452986833002319873   \n",
        "2  Mon Apr 07 01:51:25 +0000 2014          0          []  452986974782369792   \n",
        "3  Mon Apr 07 01:52:03 +0000 2014          0          []  452987134199078913   \n",
        "4  Mon Apr 07 01:53:35 +0000 2014          0  [Shanghai]  452987520578363392   \n",
        "\n",
        "   retweets                                               text            user  \n",
        "0         0  @MarriottIntl staying in the Aruba Ocean Club....    amandax0faye  \n",
        "1         0  @MarriottIntl apparently it isn't true...hope ...    amandax0faye  \n",
        "2         0  I'm at Tucson Marriott University Park (Tucson...          pdxplm  \n",
        "3         0  Cool welcome upon arrival from Chattanooga CVB...  vipalpinetours  \n",
        "4         0  YOU DID NOT! - RT @HiltonWorldwide: Traveling ...         shamong  \n",
        "\n",
        "[5 rows x 7 columns]"
       ]
      }
     ],
     "prompt_number": 42
    },
    {
     "cell_type": "code",
     "collapsed": false,
     "input": [
      "df.user.value_counts()"
     ],
     "language": "python",
     "metadata": {},
     "outputs": [
      {
       "metadata": {},
       "output_type": "pyout",
       "prompt_number": 44,
       "text": [
        "dreamytravels      412\n",
        "vegas_visits       231\n",
        "TravelPointers      97\n",
        "IHGCare             83\n",
        "angelo_chirillo     75\n",
        "ProductPoet         69\n",
        "OsoulIslamRT        64\n",
        "topratedhotels      56\n",
        "TotalTrafficHOU     53\n",
        "PropertiesReal      45\n",
        "TXI45thm            44\n",
        "davidsirota         41\n",
        "Marriott            40\n",
        "CarolModaPR         38\n",
        "MiddleEastJob       37\n",
        "...\n",
        "blckmnstrblbr      1\n",
        "jaystancil         1\n",
        "rossCountyHall     1\n",
        "fathi_h24          1\n",
        "TJollett           1\n",
        "BurghBargains      1\n",
        "HybridSecAnon      1\n",
        "_LivinADream       1\n",
        "nisconi            1\n",
        "jluke777           1\n",
        "Evnglnzqjno        1\n",
        "BoldRadiusSteve    1\n",
        "VacationAuction    1\n",
        "GDSportsPhotos     1\n",
        "AirHotelCards      1\n",
        "Length: 20096, dtype: int64"
       ]
      }
     ],
     "prompt_number": 44
    },
    {
     "cell_type": "code",
     "collapsed": false,
     "input": [
      "all_hash = []\n",
      "hash_tweeters = []\n",
      "for row in df.hashtags:\n",
      "    all_hash.extend(row)\n",
      "all_hash = pandas.DataFrame(all_hash, columns = ['hashtags'])    # need to add name to get value_counts\n",
      "head(all_hash.hashtags.value_counts(),50)"
     ],
     "language": "python",
     "metadata": {},
     "outputs": [
      {
       "ename": "NameError",
       "evalue": "name 'df' is not defined",
       "output_type": "pyerr",
       "traceback": [
        "\u001b[1;31m---------------------------------------------------------------------------\u001b[0m\n\u001b[1;31mNameError\u001b[0m                                 Traceback (most recent call last)",
        "\u001b[1;32m<ipython-input-2-6c4d285af5ea>\u001b[0m in \u001b[0;36m<module>\u001b[1;34m()\u001b[0m\n\u001b[0;32m      1\u001b[0m \u001b[0mall_hash\u001b[0m \u001b[1;33m=\u001b[0m \u001b[1;33m[\u001b[0m\u001b[1;33m]\u001b[0m\u001b[1;33m\u001b[0m\u001b[0m\n\u001b[0;32m      2\u001b[0m \u001b[0mhash_tweeters\u001b[0m \u001b[1;33m=\u001b[0m \u001b[1;33m[\u001b[0m\u001b[1;33m]\u001b[0m\u001b[1;33m\u001b[0m\u001b[0m\n\u001b[1;32m----> 3\u001b[1;33m \u001b[1;32mfor\u001b[0m \u001b[0mrow\u001b[0m \u001b[1;32min\u001b[0m \u001b[0mdf\u001b[0m\u001b[1;33m.\u001b[0m\u001b[0mhashtags\u001b[0m\u001b[1;33m:\u001b[0m\u001b[1;33m\u001b[0m\u001b[0m\n\u001b[0m\u001b[0;32m      4\u001b[0m     \u001b[0mall_hash\u001b[0m\u001b[1;33m.\u001b[0m\u001b[0mextend\u001b[0m\u001b[1;33m(\u001b[0m\u001b[0mrow\u001b[0m\u001b[1;33m)\u001b[0m\u001b[1;33m\u001b[0m\u001b[0m\n\u001b[0;32m      5\u001b[0m \u001b[0mall_hash\u001b[0m \u001b[1;33m=\u001b[0m \u001b[0mpandas\u001b[0m\u001b[1;33m.\u001b[0m\u001b[0mDataFrame\u001b[0m\u001b[1;33m(\u001b[0m\u001b[0mall_hash\u001b[0m\u001b[1;33m,\u001b[0m \u001b[0mcolumns\u001b[0m \u001b[1;33m=\u001b[0m \u001b[1;33m[\u001b[0m\u001b[1;34m'hashtags'\u001b[0m\u001b[1;33m]\u001b[0m\u001b[1;33m)\u001b[0m    \u001b[1;31m# need to add name to get value_counts\u001b[0m\u001b[1;33m\u001b[0m\u001b[0m\n",
        "\u001b[1;31mNameError\u001b[0m: name 'df' is not defined"
       ]
      }
     ],
     "prompt_number": 2
    },
    {
     "cell_type": "code",
     "collapsed": false,
     "input": [
      "all_hash = []\n",
      "hash_tweeters = []\n",
      "for row in df.hashtags:\n",
      "    all_hash.extend(row)\n",
      "    \n",
      "all_hash = pandas.DataFrame(all_hash, columns = ['hashtags'])    # need to add name to get value_counts\n",
      "all_hash.hashtags.value_counts()"
     ],
     "language": "python",
     "metadata": {},
     "outputs": [
      {
       "metadata": {},
       "output_type": "pyout",
       "prompt_number": 91,
       "text": [
        "Marriott                   536\n",
        "Job                        432\n",
        "SPG                        380\n",
        "GotMySweatOn               327\n",
        "VacationVilla              321\n",
        "Jobs                       293\n",
        "OKTracks                   255\n",
        "ebayipad                   250\n",
        "travel                     249\n",
        "marriott                   239\n",
        "holidayinn                 234\n",
        "INeedThatBreak             204\n",
        "DestinationWedding         179\n",
        "traffic                    176\n",
        "TLWTheFalseExpectations    154\n",
        "...\n",
        "3shows                  1\n",
        "personalperspectives    1\n",
        "Fantastic               1\n",
        "firstclass              1\n",
        "thiethievice            1\n",
        "Electrical              1\n",
        "disneyland              1\n",
        "rallytime               1\n",
        "bebe                    1\n",
        "friday                  1\n",
        "2manypeople             1\n",
        "pathetic                1\n",
        "indiananights           1\n",
        "lifemodule              1\n",
        "pinkhardhat             1\n",
        "Length: 5367, dtype: int64"
       ]
      }
     ],
     "prompt_number": 91
    }
   ],
   "metadata": {}
  }
 ]
}