{
 "cells": [
  {
   "cell_type": "code",
   "execution_count": 2,
   "metadata": {
    "collapsed": false
   },
   "outputs": [],
   "source": [
    "import pandas as pd\n",
    "import numpy as np\n",
    "import matplotlib.pyplot as plt\n",
    "import re\n",
    "import json"
   ]
  },
  {
   "cell_type": "code",
   "execution_count": 2,
   "metadata": {
    "collapsed": false,
    "scrolled": true
   },
   "outputs": [
    {
     "name": "stdout",
     "output_type": "stream",
     "text": [
      "marriot, marriottintl, hiltonhhonors, mariott, hiltonworldwide, sheraton, hilton, starwood, marriott, spg, hiltonhotels\n"
     ]
    }
   ],
   "source": [
    "# helper file - set up the term lookup\n",
    "\n",
    "termlist = dict()\n",
    "termlist['hilton'] = ['HiltonHotels', 'HiltonHHonors', 'HiltonWorldwide', 'Hilton']\n",
    "termlist['marriott'] = ['Marriott', 'Mariott', 'Marriot', 'MarriottIntl']\n",
    "termlist['starwood'] = ['sheraton', 'spg','starwood']\n",
    "\n",
    "termlookup = {}\n",
    "for ii in termlist.keys():\n",
    "    for jj in termlist[ii]:\n",
    "        termlookup[jj.lower()] = ii.lower()    # make sure whole dict is lower for searching\n",
    "\n",
    "term_string = \", \".join(termlookup.keys())\n",
    "FOLLOW_TERM = term_string    # Creates string for Twitter monitor - check: does case matter?\n",
    "FOLLOW_list = FOLLOW_TERM.split()\n",
    "print(FOLLOW_TERM)"
   ]
  },
  {
   "cell_type": "code",
   "execution_count": 37,
   "metadata": {
    "collapsed": true
   },
   "outputs": [],
   "source": [
    "# helper function - agg up the tweets\n",
    "\n",
    "def hashcounter(tweets):    \n",
    "    hashtags = dict()\n",
    "    for key, tweet in tweets.items():\n",
    "        tweethash = tweet.get('hashtags')\n",
    "        type(tweethash)\n",
    "        for ii in tweethash:\n",
    "            if ii.get('text') in hashtags.keys():\n",
    "                hashtags[ii.get('text')] += 1\n",
    "            else:\n",
    "                hashtags[ii.get('text')] = 1\n",
    "    \n",
    "    from operator import itemgetter\n",
    "    for k, v in sorted(hashtags.items(), key=itemgetter(1), reverse=True)[0:10]:\n",
    "        print k, v\n",
    "\n",
    "    return hashtags"
   ]
  },
  {
   "cell_type": "code",
   "execution_count": 87,
   "metadata": {
    "collapsed": false,
    "scrolled": true
   },
   "outputs": [
    {
     "name": "stdout",
     "output_type": "stream",
     "text": [
      "0\n"
     ]
    }
   ],
   "source": [
    "# a dict of dicts way to load the RAW tweets\n",
    "\n",
    "filename = 'tweettest.txt'\n",
    "fp = open(filename)\n",
    "\n",
    "tweetsraw = dict()\n",
    "errorlines = []\n",
    "for ii in range(500):\n",
    "    try:\n",
    "        line = fp.readline()\n",
    "        line = eval(line) # and now the line is a dict\n",
    "        #out = tweetproc(line, termlookup)\n",
    "        tweetsraw[ii] = line\n",
    "    except:\n",
    "        errorlines.append(ii)\n",
    "print len(errorlines)"
   ]
  },
  {
   "cell_type": "code",
   "execution_count": 91,
   "metadata": {
    "collapsed": false
   },
   "outputs": [
    {
     "name": "stdout",
     "output_type": "stream",
     "text": [
      "0\n"
     ]
    },
    {
     "ename": "IndexError",
     "evalue": "list index out of range",
     "output_type": "error",
     "traceback": [
      "\u001b[0;31m---------------------------------------------------------------------------\u001b[0m",
      "\u001b[0;31mIndexError\u001b[0m                                Traceback (most recent call last)",
      "\u001b[0;32m<ipython-input-91-3d55e8b0076d>\u001b[0m in \u001b[0;36m<module>\u001b[0;34m()\u001b[0m\n\u001b[1;32m     16\u001b[0m         \u001b[0merrorlines\u001b[0m\u001b[0;34m.\u001b[0m\u001b[0mappend\u001b[0m\u001b[0;34m(\u001b[0m\u001b[0mii\u001b[0m\u001b[0;34m)\u001b[0m\u001b[0;34m\u001b[0m\u001b[0m\n\u001b[1;32m     17\u001b[0m \u001b[0;32mprint\u001b[0m \u001b[0mlen\u001b[0m\u001b[0;34m(\u001b[0m\u001b[0merrorlines\u001b[0m\u001b[0;34m)\u001b[0m\u001b[0;34m\u001b[0m\u001b[0m\n\u001b[0;32m---> 18\u001b[0;31m \u001b[0;32mprint\u001b[0m \u001b[0;34m(\u001b[0m\u001b[0merrorlines\u001b[0m\u001b[0;34m[\u001b[0m\u001b[0;36m1\u001b[0m\u001b[0;34m]\u001b[0m\u001b[0;34m)\u001b[0m\u001b[0;34m\u001b[0m\u001b[0m\n\u001b[0m",
      "\u001b[0;31mIndexError\u001b[0m: list index out of range"
     ]
    }
   ],
   "source": [
    "# a dict of dicts way to load the PROCESSED tweets!!!\n",
    "# note: requires all the termlookup and tweetproc initialization\n",
    "\n",
    "filename = 'tweettest.txt'\n",
    "fp = open(filename)\n",
    "\n",
    "tweets = dict()\n",
    "errorlines = []\n",
    "for ii in range(500):\n",
    "    try:\n",
    "        line = fp.readline()\n",
    "        line = eval(line) # and now the line is a dict\n",
    "        out = tweetproc(line, termlookup)\n",
    "        tweets[ii] = out\n",
    "    except:\n",
    "        errorlines.append(ii)\n",
    "print len(errorlines)\n",
    "print (errorlines[1])"
   ]
  },
  {
   "cell_type": "code",
   "execution_count": null,
   "metadata": {
    "collapsed": true
   },
   "outputs": [],
   "source": []
  },
  {
   "cell_type": "code",
   "execution_count": 90,
   "metadata": {
    "collapsed": true
   },
   "outputs": [],
   "source": [
    "# main tweet processing function - line by line, requires term lookup and dict of dict filestructure\n",
    "\n",
    "def tweetproc(line, termlookup):    # inputs line as a dict\n",
    "    #print(line.keys()) \n",
    "    #print(line['text'])\n",
    "    tweet = dict()\n",
    "    tweet['text'] = line.get('text')\n",
    "    tweet['username'] = line.get('user').get('screen_name')\n",
    "    tweet['userloc'] = line.get('user').get('location')\n",
    "    tweet['tweetloc'] = line.get('geo')\n",
    "    tweet['time'] = line.get('created_at')\n",
    "    tweet['lang'] = line.get('lang')\n",
    "    tweet['id'] = line.get('id')\n",
    "    \n",
    "    # these here may be lists - need further processing to flatten\n",
    "    tweet['hashtags'] = line.get('entities').get('hashtags')\n",
    "    tweet['urls'] = line.get('entities').get('urls')\n",
    "    tweet['user_mentions'] = line.get('entities').get('user_mentions')\n",
    "    \n",
    "    # Something needs to be debugged here!!!\n",
    "    #tweet['retweeted_id'] = line.get('retweeted_status').get('id')   \n",
    "    #tweet['retweeted_user'] = line.get('retweeted_status').get('user').get('screen_name')\n",
    "    \n",
    "    brands = []\n",
    "    #print line.get('text').lower()\n",
    "    for ii in termlookup.keys():\n",
    "        if line.get('text').lower().find(ii) >= 0:\n",
    "            brands.append(ii)\n",
    "    tweet['brands'] = brands\n",
    "    \n",
    "    # tweet['err'] = line.get('fake')\n",
    "    return tweet"
   ]
  },
  {
   "cell_type": "code",
   "execution_count": null,
   "metadata": {
    "collapsed": true
   },
   "outputs": [],
   "source": [
    "# Documenting tweet stuff\n",
    "# tweetsraw.get(ii).get('entities').get('hashtags') --> returns a list of dicts / empty lists"
   ]
  },
  {
   "cell_type": "code",
   "execution_count": 76,
   "metadata": {
    "collapsed": false
   },
   "outputs": [
    {
     "name": "stdout",
     "output_type": "stream",
     "text": [
      "32\n"
     ]
    }
   ],
   "source": [
    "isaretweet = 0\n",
    "for ii in range(100):\n",
    "    #tweetsraw.get(ii).get('entities').get('hashtags')\n",
    "    #print type(tweetsraw.get(ii).get('retweeted_status'))\n",
    "    try:\n",
    "        tweetsraw[ii]['retweeted_status']\n",
    "        isaretweet += 1\n",
    "        #print ii\n",
    "    except:\n",
    "        a = 0\n",
    "\n",
    "print isaretweet"
   ]
  },
  {
   "cell_type": "code",
   "execution_count": 79,
   "metadata": {
    "collapsed": false
   },
   "outputs": [],
   "source": [
    "#tweetsraw[0]"
   ]
  },
  {
   "cell_type": "code",
   "execution_count": 32,
   "metadata": {
    "collapsed": true
   },
   "outputs": [],
   "source": [
    "# a dataframe way to load the raw tweets\n",
    "\n",
    "filename = 'tweettest.txt'\n",
    "fp = open(filename)\n",
    "\n",
    "records = [eval(line) for line in fp]\n",
    "frame = pd.DataFrame(records)"
   ]
  },
  {
   "cell_type": "code",
   "execution_count": 34,
   "metadata": {
    "collapsed": false
   },
   "outputs": [
    {
     "data": {
      "text/html": [
       "<div>\n",
       "<table border=\"1\" class=\"dataframe\">\n",
       "  <thead>\n",
       "    <tr style=\"text-align: right;\">\n",
       "      <th></th>\n",
       "      <th>contributors</th>\n",
       "      <th>coordinates</th>\n",
       "      <th>created_at</th>\n",
       "      <th>entities</th>\n",
       "      <th>extended_entities</th>\n",
       "      <th>favorite_count</th>\n",
       "      <th>favorited</th>\n",
       "      <th>filter_level</th>\n",
       "      <th>geo</th>\n",
       "      <th>id</th>\n",
       "      <th>...</th>\n",
       "      <th>quoted_status_id</th>\n",
       "      <th>quoted_status_id_str</th>\n",
       "      <th>retweet_count</th>\n",
       "      <th>retweeted</th>\n",
       "      <th>retweeted_status</th>\n",
       "      <th>source</th>\n",
       "      <th>text</th>\n",
       "      <th>timestamp_ms</th>\n",
       "      <th>truncated</th>\n",
       "      <th>user</th>\n",
       "    </tr>\n",
       "  </thead>\n",
       "  <tbody>\n",
       "    <tr>\n",
       "      <th>0</th>\n",
       "      <td>None</td>\n",
       "      <td>None</td>\n",
       "      <td>Wed Jul 27 02:04:03 +0000 2016</td>\n",
       "      <td>{u'user_mentions': [{u'indices': [3, 14], u'sc...</td>\n",
       "      <td>{u'media': [{u'source_user_id': 247583674, u'e...</td>\n",
       "      <td>0</td>\n",
       "      <td>False</td>\n",
       "      <td>low</td>\n",
       "      <td>None</td>\n",
       "      <td>758120737500721152</td>\n",
       "      <td>...</td>\n",
       "      <td>NaN</td>\n",
       "      <td>NaN</td>\n",
       "      <td>0</td>\n",
       "      <td>False</td>\n",
       "      <td>{u'contributors': None, u'truncated': False, u...</td>\n",
       "      <td>&lt;a href=\"http://twitter.com/download/android\" ...</td>\n",
       "      <td>RT @ZIPERATIVO: Perez Hilton expõe a Demi Lova...</td>\n",
       "      <td>1469585043679</td>\n",
       "      <td>False</td>\n",
       "      <td>{u'utc_offset': None, u'statuses_count': 55255...</td>\n",
       "    </tr>\n",
       "    <tr>\n",
       "      <th>1</th>\n",
       "      <td>None</td>\n",
       "      <td>None</td>\n",
       "      <td>Wed Jul 27 02:04:06 +0000 2016</td>\n",
       "      <td>{u'user_mentions': [], u'symbols': [], u'hasht...</td>\n",
       "      <td>NaN</td>\n",
       "      <td>0</td>\n",
       "      <td>False</td>\n",
       "      <td>low</td>\n",
       "      <td>None</td>\n",
       "      <td>758120749634912256</td>\n",
       "      <td>...</td>\n",
       "      <td>NaN</td>\n",
       "      <td>NaN</td>\n",
       "      <td>0</td>\n",
       "      <td>False</td>\n",
       "      <td>NaN</td>\n",
       "      <td>&lt;a href=\"http://twitter.com\" rel=\"nofollow\"&gt;Tw...</td>\n",
       "      <td>#nicki hilton nude buffy tyler sexy https://t....</td>\n",
       "      <td>1469585046572</td>\n",
       "      <td>False</td>\n",
       "      <td>{u'utc_offset': None, u'statuses_count': 8609,...</td>\n",
       "    </tr>\n",
       "    <tr>\n",
       "      <th>2</th>\n",
       "      <td>None</td>\n",
       "      <td>None</td>\n",
       "      <td>Wed Jul 27 02:06:16 +0000 2016</td>\n",
       "      <td>{u'user_mentions': [], u'symbols': [], u'hasht...</td>\n",
       "      <td>NaN</td>\n",
       "      <td>0</td>\n",
       "      <td>False</td>\n",
       "      <td>low</td>\n",
       "      <td>None</td>\n",
       "      <td>758121296341241856</td>\n",
       "      <td>...</td>\n",
       "      <td>NaN</td>\n",
       "      <td>NaN</td>\n",
       "      <td>0</td>\n",
       "      <td>False</td>\n",
       "      <td>NaN</td>\n",
       "      <td>&lt;a href=\"http://dlvr.it\" rel=\"nofollow\"&gt;dlvr.i...</td>\n",
       "      <td>#toprated Hilton Garden Inn Anaheim Garden Gro...</td>\n",
       "      <td>1469585176917</td>\n",
       "      <td>False</td>\n",
       "      <td>{u'utc_offset': -25200, u'statuses_count': 300...</td>\n",
       "    </tr>\n",
       "    <tr>\n",
       "      <th>3</th>\n",
       "      <td>None</td>\n",
       "      <td>None</td>\n",
       "      <td>Wed Jul 27 02:06:22 +0000 2016</td>\n",
       "      <td>{u'user_mentions': [{u'indices': [3, 18], u'sc...</td>\n",
       "      <td>NaN</td>\n",
       "      <td>0</td>\n",
       "      <td>False</td>\n",
       "      <td>low</td>\n",
       "      <td>None</td>\n",
       "      <td>758121321779765248</td>\n",
       "      <td>...</td>\n",
       "      <td>NaN</td>\n",
       "      <td>NaN</td>\n",
       "      <td>0</td>\n",
       "      <td>False</td>\n",
       "      <td>{u'contributors': None, u'truncated': False, u...</td>\n",
       "      <td>&lt;a href=\"https://about.twitter.com/products/tw...</td>\n",
       "      <td>RT @classifiedfact: In 2011, a man crashed Par...</td>\n",
       "      <td>1469585182982</td>\n",
       "      <td>False</td>\n",
       "      <td>{u'utc_offset': 19800, u'statuses_count': 682,...</td>\n",
       "    </tr>\n",
       "    <tr>\n",
       "      <th>4</th>\n",
       "      <td>None</td>\n",
       "      <td>None</td>\n",
       "      <td>Wed Jul 27 02:06:22 +0000 2016</td>\n",
       "      <td>{u'user_mentions': [{u'indices': [3, 18], u'sc...</td>\n",
       "      <td>NaN</td>\n",
       "      <td>0</td>\n",
       "      <td>False</td>\n",
       "      <td>low</td>\n",
       "      <td>None</td>\n",
       "      <td>758121321783922688</td>\n",
       "      <td>...</td>\n",
       "      <td>NaN</td>\n",
       "      <td>NaN</td>\n",
       "      <td>0</td>\n",
       "      <td>False</td>\n",
       "      <td>{u'contributors': None, u'truncated': False, u...</td>\n",
       "      <td>&lt;a href=\"https://about.twitter.com/products/tw...</td>\n",
       "      <td>RT @classifiedfact: In 2011, a man crashed Par...</td>\n",
       "      <td>1469585182983</td>\n",
       "      <td>False</td>\n",
       "      <td>{u'utc_offset': -14400, u'statuses_count': 249...</td>\n",
       "    </tr>\n",
       "  </tbody>\n",
       "</table>\n",
       "<p>5 rows × 31 columns</p>\n",
       "</div>"
      ],
      "text/plain": [
       "  contributors coordinates                      created_at  \\\n",
       "0         None        None  Wed Jul 27 02:04:03 +0000 2016   \n",
       "1         None        None  Wed Jul 27 02:04:06 +0000 2016   \n",
       "2         None        None  Wed Jul 27 02:06:16 +0000 2016   \n",
       "3         None        None  Wed Jul 27 02:06:22 +0000 2016   \n",
       "4         None        None  Wed Jul 27 02:06:22 +0000 2016   \n",
       "\n",
       "                                            entities  \\\n",
       "0  {u'user_mentions': [{u'indices': [3, 14], u'sc...   \n",
       "1  {u'user_mentions': [], u'symbols': [], u'hasht...   \n",
       "2  {u'user_mentions': [], u'symbols': [], u'hasht...   \n",
       "3  {u'user_mentions': [{u'indices': [3, 18], u'sc...   \n",
       "4  {u'user_mentions': [{u'indices': [3, 18], u'sc...   \n",
       "\n",
       "                                   extended_entities  favorite_count  \\\n",
       "0  {u'media': [{u'source_user_id': 247583674, u'e...               0   \n",
       "1                                                NaN               0   \n",
       "2                                                NaN               0   \n",
       "3                                                NaN               0   \n",
       "4                                                NaN               0   \n",
       "\n",
       "  favorited filter_level   geo                  id  \\\n",
       "0     False          low  None  758120737500721152   \n",
       "1     False          low  None  758120749634912256   \n",
       "2     False          low  None  758121296341241856   \n",
       "3     False          low  None  758121321779765248   \n",
       "4     False          low  None  758121321783922688   \n",
       "\n",
       "                         ...                         quoted_status_id  \\\n",
       "0                        ...                                      NaN   \n",
       "1                        ...                                      NaN   \n",
       "2                        ...                                      NaN   \n",
       "3                        ...                                      NaN   \n",
       "4                        ...                                      NaN   \n",
       "\n",
       "  quoted_status_id_str  retweet_count retweeted  \\\n",
       "0                  NaN              0     False   \n",
       "1                  NaN              0     False   \n",
       "2                  NaN              0     False   \n",
       "3                  NaN              0     False   \n",
       "4                  NaN              0     False   \n",
       "\n",
       "                                    retweeted_status  \\\n",
       "0  {u'contributors': None, u'truncated': False, u...   \n",
       "1                                                NaN   \n",
       "2                                                NaN   \n",
       "3  {u'contributors': None, u'truncated': False, u...   \n",
       "4  {u'contributors': None, u'truncated': False, u...   \n",
       "\n",
       "                                              source  \\\n",
       "0  <a href=\"http://twitter.com/download/android\" ...   \n",
       "1  <a href=\"http://twitter.com\" rel=\"nofollow\">Tw...   \n",
       "2  <a href=\"http://dlvr.it\" rel=\"nofollow\">dlvr.i...   \n",
       "3  <a href=\"https://about.twitter.com/products/tw...   \n",
       "4  <a href=\"https://about.twitter.com/products/tw...   \n",
       "\n",
       "                                                text   timestamp_ms truncated  \\\n",
       "0  RT @ZIPERATIVO: Perez Hilton expõe a Demi Lova...  1469585043679     False   \n",
       "1  #nicki hilton nude buffy tyler sexy https://t....  1469585046572     False   \n",
       "2  #toprated Hilton Garden Inn Anaheim Garden Gro...  1469585176917     False   \n",
       "3  RT @classifiedfact: In 2011, a man crashed Par...  1469585182982     False   \n",
       "4  RT @classifiedfact: In 2011, a man crashed Par...  1469585182983     False   \n",
       "\n",
       "                                                user  \n",
       "0  {u'utc_offset': None, u'statuses_count': 55255...  \n",
       "1  {u'utc_offset': None, u'statuses_count': 8609,...  \n",
       "2  {u'utc_offset': -25200, u'statuses_count': 300...  \n",
       "3  {u'utc_offset': 19800, u'statuses_count': 682,...  \n",
       "4  {u'utc_offset': -14400, u'statuses_count': 249...  \n",
       "\n",
       "[5 rows x 31 columns]"
      ]
     },
     "execution_count": 34,
     "metadata": {},
     "output_type": "execute_result"
    }
   ],
   "source": [
    "# exploring the data frame\n",
    "\n",
    "# two different ways of accessing columns\n",
    "#print frame['entities'][:5]\n",
    "#print frame.entities[:5]\n",
    "\n",
    "# to add columns - assign a scalar or a Series\n",
    "# use del to delete (but how did this work without function notation?)\n",
    "# NOTE: returned column is a view, not a copy - operations on that underlying series will modify the dataframe!\n",
    "\n",
    "# Dict of dicts!  Interpreted as dataframe with outer dict as column and inner keys as rows\n",
    "framesub = frame[:5]\n",
    "framesub"
   ]
  }
 ],
 "metadata": {
  "anaconda-cloud": {},
  "kernelspec": {
   "display_name": "Python [Root]",
   "language": "python",
   "name": "Python [Root]"
  },
  "language_info": {
   "codemirror_mode": {
    "name": "ipython",
    "version": 2
   },
   "file_extension": ".py",
   "mimetype": "text/x-python",
   "name": "python",
   "nbconvert_exporter": "python",
   "pygments_lexer": "ipython2",
   "version": "2.7.12"
  }
 },
 "nbformat": 4,
 "nbformat_minor": 0
}
