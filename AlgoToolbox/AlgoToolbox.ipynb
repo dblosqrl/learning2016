{
 "cells": [
  {
   "cell_type": "code",
   "execution_count": null,
   "metadata": {
    "collapsed": true
   },
   "outputs": [],
   "source": [
    "# Sorting Algorithms"
   ]
  },
  {
   "cell_type": "code",
   "execution_count": 1,
   "metadata": {
    "collapsed": true
   },
   "outputs": [],
   "source": [
    "inp = [0,2,3,2,6,2,1,3]"
   ]
  },
  {
   "cell_type": "code",
   "execution_count": 2,
   "metadata": {
    "collapsed": false
   },
   "outputs": [
    {
     "name": "stdout",
     "output_type": "stream",
     "text": [
      "[0, 1, 2, 2, 2, 3, 3, 6]\n"
     ]
    }
   ],
   "source": [
    "inp.sort()\n",
    "print inp"
   ]
  },
  {
   "cell_type": "code",
   "execution_count": null,
   "metadata": {
    "collapsed": true
   },
   "outputs": [],
   "source": [
    "# Greedy Algorithms"
   ]
  },
  {
   "cell_type": "code",
   "execution_count": null,
   "metadata": {
    "collapsed": true
   },
   "outputs": [],
   "source": [
    "inp = [0,2,3,2,6,2,1,3]"
   ]
  },
  {
   "cell_type": "code",
   "execution_count": 9,
   "metadata": {
    "collapsed": false
   },
   "outputs": [
    {
     "name": "stdout",
     "output_type": "stream",
     "text": [
      "9\n",
      "2\n"
     ]
    }
   ],
   "source": [
    "# Changing Money\n",
    "m = 10239703424398709870956\n",
    "\n",
    "def get_change(m):\n",
    "    tens = m // 10\n",
    "    rem = m % 10\n",
    "    fives = rem // 5\n",
    "    ones = rem % 5\n",
    "    return tens+fives+ones\n",
    "\n",
    "print m//get_change(m)"
   ]
  },
  {
   "cell_type": "code",
   "execution_count": 39,
   "metadata": {
    "collapsed": false
   },
   "outputs": [
    {
     "name": "stdout",
     "output_type": "stream",
     "text": [
      "10.0000\n"
     ]
    }
   ],
   "source": [
    "# Fractional Knapsack\n",
    "\n",
    "capacity = 100\n",
    "weights = [60]\n",
    "values = [10]\n",
    "\n",
    "from operator import itemgetter\n",
    "\n",
    "vperw = [(values[i]*1.0/weights[i], weights[i], values[i]) for i in range(len(values))]\n",
    "vperw.sort(key=itemgetter(0), reverse = True)\n",
    "\n",
    "sackval = 0\n",
    "sackweight = 0\n",
    "itemidx = 0\n",
    "\n",
    "while sackweight < capacity and itemidx < len(values):\n",
    "    if vperw[itemidx][1]+sackweight <= capacity:\n",
    "        sackval += vperw[itemidx][2]\n",
    "        sackweight += vperw[itemidx][1]\n",
    "        itemidx += 1\n",
    "    else:\n",
    "        sackval += (capacity - sackweight)*vperw[itemidx][0]\n",
    "        sackweight = capacity\n",
    "\n",
    "print(\"{:.4f}\".format(sackval))"
   ]
  },
  {
   "cell_type": "code",
   "execution_count": 1,
   "metadata": {
    "collapsed": false
   },
   "outputs": [
    {
     "name": "stdout",
     "output_type": "stream",
     "text": [
      "23\n"
     ]
    }
   ],
   "source": [
    "# Max Dot Product\n",
    "# Insight - sorting both a and b and then dot product works - negatives and positives line up\n",
    "\n",
    "a = [1,3,-5]\n",
    "b = [-2,4,1]\n",
    "\n",
    "a.sort()\n",
    "b.sort()\n",
    "\n",
    "res = 0\n",
    "for i in range(len(a)):\n",
    "    res += a[i] * b[i]\n",
    "print res"
   ]
  },
  {
   "cell_type": "code",
   "execution_count": 51,
   "metadata": {
    "collapsed": false
   },
   "outputs": [
    {
     "name": "stdout",
     "output_type": "stream",
     "text": [
      "0\n"
     ]
    }
   ],
   "source": [
    "# Implementing Binary Search - clean copy\n",
    "a = [1, 3, 5, 7, 10, 12, 12, 13, 15]\n",
    "x = 16\n",
    "\n",
    "def binary_search(a,x):\n",
    "\n",
    "    left, right = 0, len(a)   # right initialized just longer than the last elt\n",
    "\n",
    "    while True:\n",
    "\n",
    "        midpt = int((left+right)/2.0)  # round down to select midpoint \n",
    "        # note: right cannot be it - it's either out of range or was already tested as midpt in previous iteration\n",
    "\n",
    "        if x == a[midpt]:\n",
    "            return(midpt)\n",
    "\n",
    "        # if down to last two and midpt=left is not it, then end - already know right is not it as above\n",
    "        if left >= right-1:\n",
    "            return(-1) \n",
    "\n",
    "\n",
    "        # if not found yet, update right or left\n",
    "        if x < a[midpt]:\n",
    "            right = midpt\n",
    "        else:\n",
    "            left = midpt\n",
    "\n",
    "a = [1, 3, 5, 7, 10, 12, 12, 13, 15]\n",
    "x = 1           \n",
    "            \n",
    "binary_search(a,x)\n",
    "print binary_search(a, x),"
   ]
  },
  {
   "cell_type": "code",
   "execution_count": 123,
   "metadata": {
    "collapsed": false
   },
   "outputs": [
    {
     "name": "stdout",
     "output_type": "stream",
     "text": [
      "2\n"
     ]
    }
   ],
   "source": [
    "# Recursive method to find majority elt in O(nlogn) time\n",
    "\n",
    "a = [2, 3, 9, 2, 2]\n",
    "left = 0\n",
    "right = len(a)\n",
    "\n",
    "def check_majority_element(a, left, right, candidate):\n",
    "    towin = int((right-left)/2.0)+1\n",
    "    count = 0\n",
    "    for ii in a[left:right]:\n",
    "        if ii==candidate:\n",
    "            count+=1\n",
    "        if count >= towin:\n",
    "            return(candidate)\n",
    "    return(-1)\n",
    "\n",
    "def get_majority_element(a,left,right):\n",
    "    if left == right:\n",
    "        return(-1)\n",
    "    if left+1 == right:\n",
    "        return(a[left])\n",
    "    \n",
    "    midpt = int((right+left)/2.0)\n",
    "    #print left, right, midpt\n",
    "\n",
    "    cand1 = get_majority_element(a, left, midpt)\n",
    "    cand2 = get_majority_element(a, midpt, right)\n",
    "    #print left, midpt, right, cand1, cand2\n",
    "    \n",
    "    if cand1 == cand2:  # covers if they are same candidate or both == -1\n",
    "        return(cand1)\n",
    "    return(max(check_majority_element(a,left,right,cand2), check_majority_element(a,left,right,cand1)))\n",
    "    \n",
    "out = get_majority_element(a,left,right)\n",
    "#check_majority_element(a,0,4,2)\n",
    "print out"
   ]
  },
  {
   "cell_type": "code",
   "execution_count": 136,
   "metadata": {
    "collapsed": false
   },
   "outputs": [
    {
     "name": "stdout",
     "output_type": "stream",
     "text": [
      "2\n",
      "2\n",
      "The slowest run took 9.42 times longer than the fastest. This could mean that an intermediate result is being cached.\n",
      "100000 loops, best of 3: 14.1 µs per loop\n",
      "10000 loops, best of 3: 120 µs per loop\n"
     ]
    }
   ],
   "source": [
    "# Dict method is way faster!\n",
    "\n",
    "def get_majority_dict(a, left, right):\n",
    "    counts = {}\n",
    "    towin = int((right-left)/2)+1\n",
    "    for ii in a[left:right]:\n",
    "        counts[ii] = counts.get(ii,0)+1\n",
    "        if counts[ii]>= towin:\n",
    "            return(ii)\n",
    "    return(-1)\n",
    "\n",
    "a = [2, 3, 2, 4, 2, 2, 5, 6, 1, 2, 2, 2, 5, 56, 2, 3, 4, 2, 2, 2, 2]\n",
    "left = 0\n",
    "right = len(a)\n",
    "\n",
    "print get_majority_dict(a,left,right)\n",
    "print get_majority_element(a, left, right)\n",
    "\n",
    "%timeit get_majority_dict(a, left, right)\n",
    "%timeit get_majority_element(a, left, right)"
   ]
  },
  {
   "cell_type": "code",
   "execution_count": 135,
   "metadata": {
    "collapsed": false
   },
   "outputs": [
    {
     "data": {
      "text/plain": [
       "3.044522437723423"
      ]
     },
     "execution_count": 135,
     "metadata": {},
     "output_type": "execute_result"
    }
   ],
   "source": [
    "import math\n",
    "math.log(len(a))"
   ]
  },
  {
   "cell_type": "code",
   "execution_count": 179,
   "metadata": {
    "collapsed": false
   },
   "outputs": [
    {
     "name": "stdout",
     "output_type": "stream",
     "text": [
      "19\n"
     ]
    },
    {
     "data": {
      "text/plain": [
       "[[0, 0, 0, 0, 0, 0, 0, 0, 0, 0, 0, 0, 0, 0, 0, 0, 0, 0, 0, 0, 0],\n",
       " [0, 0, 0, 0, 0, 5, 5, 5, 5, 5, 5, 5, 5, 5, 5, 5, 5, 5, 5, 5, 5],\n",
       " [0, 0, 0, 0, 0, 5, 5, 7, 7, 7, 7, 7, 12, 12, 12, 12, 12, 12, 12, 12, 12],\n",
       " [0, 0, 0, 0, 0, 5, 5, 7, 7, 7, 7, 7, 12, 12, 12, 12, 12, 17, 17, 19, 19],\n",
       " [0, 0, 0, 0, 0, 5, 5, 7, 7, 7, 7, 7, 12, 12, 12, 12, 12, 17, 18, 19, 19]]"
      ]
     },
     "execution_count": 179,
     "metadata": {},
     "output_type": "execute_result"
    }
   ],
   "source": [
    "# Dynamic Programming - knapsack with no repetitions\n",
    "\n",
    "W = 20\n",
    "w = [5,7,12,18]\n",
    "n = len(w)\n",
    "\n",
    "table = [[0 for x in range(W+1)] for y in range(n+1)]\n",
    "\n",
    "for i in range(n):\n",
    "    for j in range(W+1):\n",
    "        table[i+1][j] = table[i][j]\n",
    "        if w[i] <= j:\n",
    "            val = table[i][j-w[i]]+w[i]\n",
    "            if table[i+1][j] < val:\n",
    "                table[i+1][j] = val\n",
    "            \n",
    "print table[n][W]\n",
    "table"
   ]
  },
  {
   "cell_type": "code",
   "execution_count": 186,
   "metadata": {
    "collapsed": false
   },
   "outputs": [
    {
     "data": {
      "text/plain": [
       "[0, 1, 2]"
      ]
     },
     "execution_count": 186,
     "metadata": {},
     "output_type": "execute_result"
    }
   ],
   "source": [
    "# Playing with table lengths\n",
    "\n",
    "W = 5\n",
    "w = [4, 3, 1]\n",
    "n = len(w)\n",
    "\n",
    "table = [[0 for x in range(W+1)] for y in range(n+1)]\n",
    "\n",
    "table[1][3] = 1\n",
    "table\n",
    "\n",
    "range (n)"
   ]
  },
  {
   "cell_type": "code",
   "execution_count": 207,
   "metadata": {
    "collapsed": false
   },
   "outputs": [
    {
     "data": {
      "text/plain": [
       "[1, 0, 3]"
      ]
     },
     "execution_count": 207,
     "metadata": {},
     "output_type": "execute_result"
    }
   ],
   "source": [
    "# Dynamic Programming - Calculator\n",
    "\n",
    "n = 10\n",
    "\n",
    "\n",
    "table = [n for x in range(n+1)]\n",
    "\n",
    "for i in range(n+1):\n",
    "    for j in range(n/2+1):\n",
    "        for k in range(n/3+1):\n",
    "            #print i,j,k\n",
    "            if max(3*k,1)*max(2*j,1)+i <= n:\n",
    "                if table[max(3*k,1)*max(2*j,1)+i] > i+j+k:\n",
    "                    table[max(3*k,1)*max(2*j,1)+i] = i+j+k\n",
    "            \n",
    "list(table[1][n])\n",
    "\n",
    "# This is not quite right - doesn't preserve order of operations with that +1 \n",
    "# plus has long run time. . . \n",
    "\n"
   ]
  },
  {
   "cell_type": "code",
   "execution_count": 251,
   "metadata": {
    "collapsed": false
   },
   "outputs": [
    {
     "name": "stdout",
     "output_type": "stream",
     "text": [
      "0\n",
      "[0, 1, 3]\n",
      "1\n",
      "[0, 1, 2]\n",
      "2\n",
      "[0, 1, 2]\n",
      "1\n",
      "[1, 2]\n"
     ]
    }
   ],
   "source": [
    "n=2\n",
    "#n= 96234\n",
    "\n",
    "sequence = []\n",
    "\n",
    "v = [n+1 for x in range(n+1)]\n",
    "p = [0 for x in range(n+1)]\n",
    "v[0]=0\n",
    "p[0]=0\n",
    "\n",
    "for i in range(n+1):\n",
    "    if i+1 <= n and v[i+1] > v[i]+1:\n",
    "        v[i+1] = v[i]+1\n",
    "        p[i+1] = i\n",
    "    if i*2 <= n and v[i*2] > v[i]+1:\n",
    "        v[i*2] = v[i]+1\n",
    "        p[i*2] = i\n",
    "    if i*3 <= n and v[i*3] > v[i]+1:\n",
    "        v[i*3] = v[i]+1\n",
    "        p[i*3] = i\n",
    "    print i\n",
    "    print v\n",
    "\n",
    "\n",
    "\n",
    "point = p[n]\n",
    "sequence.append(n)\n",
    "\n",
    "while point > 0:\n",
    "    sequence.append(point)\n",
    "    point = p[point]\n",
    "    \n",
    "sequence.reverse()\n",
    "print len(sequence)-1\n",
    "print sequence"
   ]
  },
  {
   "cell_type": "code",
   "execution_count": 250,
   "metadata": {
    "collapsed": false
   },
   "outputs": [
    {
     "data": {
      "text/plain": [
       "[0, 0, 0]"
      ]
     },
     "execution_count": 250,
     "metadata": {},
     "output_type": "execute_result"
    }
   ],
   "source": [
    "p"
   ]
  }
 ],
 "metadata": {
  "anaconda-cloud": {},
  "kernelspec": {
   "display_name": "Python [Root]",
   "language": "python",
   "name": "Python [Root]"
  },
  "language_info": {
   "codemirror_mode": {
    "name": "ipython",
    "version": 2
   },
   "file_extension": ".py",
   "mimetype": "text/x-python",
   "name": "python",
   "nbconvert_exporter": "python",
   "pygments_lexer": "ipython2",
   "version": "2.7.12"
  }
 },
 "nbformat": 4,
 "nbformat_minor": 0
}
